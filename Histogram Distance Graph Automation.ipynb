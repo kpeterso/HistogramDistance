{
 "cells": [
  {
   "cell_type": "markdown",
   "metadata": {},
   "source": [
    "Generate every level of graph for a survey\n",
    "APEAL Levels:\n",
    "Segments vs overall\n",
    "Segments vs segment average variable\n",
    "Vehicles in segment vs overall\n",
    "Vehicles in segment vs segment avg\n",
    "vehicles in segment vs segment question avg\n",
    "vehicle average vs segment average for each question\n",
    "vehicle question vs question average\n",
    "non-question variable (demographic, etc) histograms - only compare within variable"
   ]
  },
  {
   "cell_type": "code",
   "execution_count": null,
   "metadata": {
    "collapsed": true
   },
   "outputs": [],
   "source": [
    "import pandas as pd\n",
    "import numpy as np\n",
    "import km\n",
    "from matplotlib import pyplot as plt\n",
    "%matplotlib inline"
   ]
  },
  {
   "cell_type": "code",
   "execution_count": null,
   "metadata": {
    "collapsed": true
   },
   "outputs": [],
   "source": [
    "def createProbDist:\n",
    "    "
   ]
  },
  {
   "cell_type": "code",
   "execution_count": null,
   "metadata": {
    "collapsed": true
   },
   "outputs": [],
   "source": [
    "dfList=[]\n",
    "fileList = ['APEAL data\\\\16_US_APEAL_SPSS.csv','APEAL data\\\\15_US_APEAL_SPSS.csv','APEAL data\\\\14_US_APEAL_SPSS.csv']\n",
    "for f in fileList:\n",
    "#load data from csv files into dataframe\n",
    "    print(f)\n",
    "    df = pd.read_csv(f,error_bad_lines=False)\n",
    "    #df.columns = df.iloc[0]\n",
    "    #df = df.reindex(df.index.drop(0))\n",
    "    dropList=['ID', 'WT']\n",
    "    df = df.drop(dropList, axis=1)\n",
    "    df=df.replace(99,np.nan)\n",
    "    if 'Make_Series' not in list(df.columns):\n",
    "        df=df.rename(columns = {'MakeSeries':'Make_Series'})\n",
    "    \n",
    "    if 'Demo_Height' not in list(df.columns):\n",
    "        df=df.rename(columns = {'Demo_Height_Inch':'Demo_Height'})\n",
    "    dfList.append(df)"
   ]
  }
 ],
 "metadata": {
  "kernelspec": {
   "display_name": "Python 3",
   "language": "python",
   "name": "python3"
  },
  "language_info": {
   "codemirror_mode": {
    "name": "ipython",
    "version": 3
   },
   "file_extension": ".py",
   "mimetype": "text/x-python",
   "name": "python",
   "nbconvert_exporter": "python",
   "pygments_lexer": "ipython3",
   "version": "3.5.3"
  }
 },
 "nbformat": 4,
 "nbformat_minor": 2
}
